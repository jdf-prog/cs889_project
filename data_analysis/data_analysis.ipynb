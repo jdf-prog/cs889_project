{
 "cells": [
  {
   "cell_type": "code",
   "execution_count": 54,
   "metadata": {},
   "outputs": [],
   "source": [
    "import json\n",
    "with open(\"../UserTestWebPage/time_recording.json\", 'r') as f:\n",
    "    data = json.load(f)\n",
    "parsed_data = {\n",
    "    \"Subject\": [],\n",
    "    \"TaskID\": [],\n",
    "    \"DeviceID\": [],\n",
    "    \"Time\": [],\n",
    "}\n",
    "for item in data:\n",
    "    parsed_data[\"Subject\"].append(item[\"userID\"])\n",
    "    parsed_data[\"TaskID\"].append(item[\"taskID\"])\n",
    "    parsed_data[\"DeviceID\"].append(item[\"deviceID\"])\n",
    "    if item['finished']:\n",
    "        parsed_data[\"Time\"].append(item[\"duration\"])\n",
    "    else:\n",
    "        parsed_data[\"Time\"].append(600)"
   ]
  },
  {
   "cell_type": "code",
   "execution_count": 55,
   "metadata": {},
   "outputs": [
    {
     "name": "stdout",
     "output_type": "stream",
     "text": [
      "                 Mixed Linear Model Regression Results\n",
      "=======================================================================\n",
      "Model:                 MixedLM      Dependent Variable:      Time      \n",
      "No. Observations:      108          Method:                  REML      \n",
      "No. Groups:            12           Scale:                   13802.7603\n",
      "Min. group size:       9            Log-Likelihood:          -651.8849 \n",
      "Max. group size:       9            Converged:               Yes       \n",
      "Mean group size:       9.0                                             \n",
      "-----------------------------------------------------------------------\n",
      "                          Coef.   Std.Err.   z    P>|z|  [0.025  0.975]\n",
      "-----------------------------------------------------------------------\n",
      "Intercept                 103.106   30.331  3.399 0.001  43.658 162.554\n",
      "DeviceID[T.2]              57.034   27.692  2.060 0.039   2.759 111.308\n",
      "DeviceID[T.3]             -14.933   27.692 -0.539 0.590 -69.208  39.341\n",
      "TaskDifficulty[T.Hard]     91.125   27.692  3.291 0.001  36.851 145.400\n",
      "TaskDifficulty[T.Medium]   77.275   27.692  2.791 0.005  23.000 131.549\n",
      "Group Var                3371.600   18.837                             \n",
      "=======================================================================\n",
      "\n"
     ]
    }
   ],
   "source": [
    "import pandas as pd\n",
    "import statsmodels.api as sm\n",
    "import statsmodels.formula.api as smf\n",
    "\n",
    "# Your parsed data loading part is assumed to be correct and loaded into `parsed_data`\n",
    "# For demonstration, let's assume `parsed_data` is already filled with your data as described\n",
    "\n",
    "# Convert parsed_data into a pandas DataFrame\n",
    "df = pd.DataFrame(parsed_data)\n",
    "\n",
    "# Convert numeric columns to appropriate types\n",
    "df['Subject'] = df['Subject'].astype('category')\n",
    "df['DeviceID'] = df['DeviceID'].astype('category')\n",
    "df['TaskID'] = df['TaskID'].astype('category')\n",
    "df['Time'] = df['Time'].astype(float)\n",
    "\n",
    "# Assuming task difficulty can be inferred directly from TaskID\n",
    "# Mapping TaskID to task difficulty for demonstration purposes\n",
    "task_difficulty_mapping = {\n",
    "    '1': 'Easy', '2': 'Easy', '3': 'Easy',\n",
    "    '4': 'Medium', '5': 'Medium', '6': 'Medium',\n",
    "    '7': 'Hard', '8': 'Hard', '9': 'Hard'\n",
    "}\n",
    "df['TaskDifficulty'] = df['TaskID'].map(task_difficulty_mapping).astype('category')\n",
    "\n",
    "# Now, fit a mixed-effects model\n",
    "# Using Time as the dependent variable, DeviceID and TaskDifficulty as fixed effects,\n",
    "# and a random intercept for subjects\n",
    "model = smf.mixedlm(\"Time ~ DeviceID + TaskDifficulty\", df, groups=df[\"Subject\"])\n",
    "result = model.fit()\n",
    "\n",
    "# Print the summary of the model\n",
    "print(result.summary())"
   ]
  },
  {
   "cell_type": "code",
   "execution_count": 4,
   "metadata": {},
   "outputs": [
    {
     "name": "stdout",
     "output_type": "stream",
     "text": [
      "ANOVA for DeviceID: F = 0.06777698052208132, p = 0.9345985904083561\n",
      "ANOVA for Task Difficulty: F = 5.3545693328805175, p = 0.009683623824535028\n"
     ]
    },
    {
     "name": "stderr",
     "output_type": "stream",
     "text": [
      "/tmp/ipykernel_1199300/724152316.py:8: FutureWarning: The default of observed=False is deprecated and will be changed to True in a future version of pandas. Pass observed=False to retain current behavior or observed=True to adopt the future default and silence this warning.\n",
      "  device_means = df.groupby(['Subject', 'DeviceID'])['Time'].mean().reset_index()\n",
      "/tmp/ipykernel_1199300/724152316.py:9: FutureWarning: The default of observed=False is deprecated and will be changed to True in a future version of pandas. Pass observed=False to retain current behavior or observed=True to adopt the future default and silence this warning.\n",
      "  f_val_device, p_val_device = stats.f_oneway(*[group['Time'].values for name, group in device_means.groupby('DeviceID')])\n",
      "/tmp/ipykernel_1199300/724152316.py:14: FutureWarning: The default of observed=False is deprecated and will be changed to True in a future version of pandas. Pass observed=False to retain current behavior or observed=True to adopt the future default and silence this warning.\n",
      "  difficulty_means = df.groupby(['Subject', 'TaskDifficulty'])['Time'].mean().reset_index()\n",
      "/tmp/ipykernel_1199300/724152316.py:15: FutureWarning: The default of observed=False is deprecated and will be changed to True in a future version of pandas. Pass observed=False to retain current behavior or observed=True to adopt the future default and silence this warning.\n",
      "  f_val_difficulty, p_val_difficulty = stats.f_oneway(*[group['Time'].values for name, group in difficulty_means.groupby('TaskDifficulty')])\n"
     ]
    }
   ],
   "source": [
    "import pandas as pd\n",
    "from scipy import stats\n",
    "\n",
    "# Assuming df is your DataFrame prepared as before\n",
    "\n",
    "# ANOVA 1: Effect of DeviceID on Time\n",
    "# We'll aggregate data by taking the mean time for each subject-device combination\n",
    "device_means = df.groupby(['Subject', 'DeviceID'])['Time'].mean().reset_index()\n",
    "f_val_device, p_val_device = stats.f_oneway(*[group['Time'].values for name, group in device_means.groupby('DeviceID')])\n",
    "print(f'ANOVA for DeviceID: F = {f_val_device}, p = {p_val_device}')\n",
    "\n",
    "# ANOVA 2: Effect of Task Difficulty on Time\n",
    "# Similarly, take the mean time for each subject-task difficulty combination\n",
    "difficulty_means = df.groupby(['Subject', 'TaskDifficulty'])['Time'].mean().reset_index()\n",
    "f_val_difficulty, p_val_difficulty = stats.f_oneway(*[group['Time'].values for name, group in difficulty_means.groupby('TaskDifficulty')])\n",
    "print(f'ANOVA for Task Difficulty: F = {f_val_difficulty}, p = {p_val_difficulty}')\n"
   ]
  },
  {
   "cell_type": "code",
   "execution_count": null,
   "metadata": {},
   "outputs": [],
   "source": [
    "import pandas as pd\n",
    "import statsmodels.api as sm\n",
    "from statsmodels.stats.anova import AnovaRM\n",
    "\n",
    "# Example data: create a DataFrame for your data\n",
    "data = {\n",
    "    'Subject': ['1', '1', '1', '2', '2', '2', '3', '3', '3'],\n",
    "    'Condition': ['A', 'B', 'C', 'A', 'B', 'C', 'A', 'B', 'C'],\n",
    "    'Score': [5, 7, 6, 4, 5, 5, 8, 9, 7]\n",
    "}\n",
    "\n",
    "df = pd.DataFrame(data)\n",
    "\n",
    "# Make sure 'Subject' is treated as a categorical variable\n",
    "df['Subject'] = df['Subject'].astype('category')\n",
    "df['Condition'] = df['Condition'].astype('category')"
   ]
  },
  {
   "cell_type": "code",
   "execution_count": null,
   "metadata": {},
   "outputs": [],
   "source": [
    "# Define the model\n",
    "anova_model = AnovaRM(df, depvar='Score', subject='Subject', within=['Condition'])\n",
    "results = anova_model.fit()\n",
    "\n",
    "# Print the results\n",
    "print(results)"
   ]
  }
 ],
 "metadata": {
  "kernelspec": {
   "display_name": "cs889",
   "language": "python",
   "name": "python3"
  },
  "language_info": {
   "codemirror_mode": {
    "name": "ipython",
    "version": 3
   },
   "file_extension": ".py",
   "mimetype": "text/x-python",
   "name": "python",
   "nbconvert_exporter": "python",
   "pygments_lexer": "ipython3",
   "version": "3.9.19"
  }
 },
 "nbformat": 4,
 "nbformat_minor": 2
}
